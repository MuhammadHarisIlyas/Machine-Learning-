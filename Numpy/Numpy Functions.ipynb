{
 "cells": [
  {
   "cell_type": "code",
   "execution_count": 1,
   "id": "99b32f81-d664-4f3e-adf9-c786d18709a7",
   "metadata": {},
   "outputs": [],
   "source": [
    "import numpy as np"
   ]
  },
  {
   "cell_type": "markdown",
   "id": "fa106bd0-dc12-415a-8364-17605fd7256a",
   "metadata": {},
   "source": [
    "Random module"
   ]
  },
  {
   "cell_type": "code",
   "execution_count": 3,
   "id": "6ed3befe-b1fc-4c9f-8df6-41bcfbc0d50d",
   "metadata": {},
   "outputs": [
    {
     "data": {
      "text/plain": [
       "0.8838893826045724"
      ]
     },
     "execution_count": 3,
     "metadata": {},
     "output_type": "execute_result"
    }
   ],
   "source": [
    "np.random.random()"
   ]
  },
  {
   "cell_type": "code",
   "execution_count": 7,
   "id": "e7e9be7b-3f21-4ec6-a6ca-13fcbda960fa",
   "metadata": {},
   "outputs": [
    {
     "data": {
      "text/plain": [
       "0.417022004702574"
      ]
     },
     "execution_count": 7,
     "metadata": {},
     "output_type": "execute_result"
    }
   ],
   "source": [
    "# seed function give same random value again and again\n",
    "np.random.seed(1)\n",
    "np.random.random()"
   ]
  },
  {
   "cell_type": "code",
   "execution_count": 10,
   "id": "cd5e36d9-d6cf-4418-a528-e30bf29e8f78",
   "metadata": {},
   "outputs": [
    {
     "data": {
      "text/plain": [
       "1.0012581229907938"
      ]
     },
     "execution_count": 10,
     "metadata": {},
     "output_type": "execute_result"
    }
   ],
   "source": [
    "# when we want to generate random value in given range we use another function known as uniform()\n",
    "\n",
    "np.random.uniform(1,12)"
   ]
  },
  {
   "cell_type": "code",
   "execution_count": 12,
   "id": "ca060063-d46e-4973-ae2c-e6718d4ad813",
   "metadata": {},
   "outputs": [
    {
     "data": {
      "text/plain": [
       "array([[87.9336262 ,  3.71137173, 67.37628351, 42.31317543, 56.31029302],\n",
       "       [14.89830692, 20.61204742, 80.2737123 , 96.857896  , 32.02899364]])"
      ]
     },
     "execution_count": 12,
     "metadata": {},
     "output_type": "execute_result"
    }
   ],
   "source": [
    "np.random.uniform(1,100,10).reshape(2,5)"
   ]
  },
  {
   "cell_type": "code",
   "execution_count": 19,
   "id": "1bf65761-f96d-4606-a20d-6a65ab346115",
   "metadata": {},
   "outputs": [
    {
     "data": {
      "text/plain": [
       "array([[9, 8, 4, 7, 6],\n",
       "       [2, 4, 5, 9, 2],\n",
       "       [5, 1, 4, 3, 1]], dtype=int32)"
      ]
     },
     "execution_count": 19,
     "metadata": {},
     "output_type": "execute_result"
    }
   ],
   "source": [
    "# it give a random integer in given range\n",
    "np.random.randint(1,10,15).reshape(3,5)"
   ]
  },
  {
   "cell_type": "code",
   "execution_count": 23,
   "id": "c2b97578-52ab-4ad9-9d25-43e52d722f6f",
   "metadata": {},
   "outputs": [
    {
     "data": {
      "text/plain": [
       "array([7, 9, 1, 3, 8, 8], dtype=int32)"
      ]
     },
     "execution_count": 23,
     "metadata": {},
     "output_type": "execute_result"
    }
   ],
   "source": [
    "arr1=np.random.randint(1,10,6)\n",
    "arr1"
   ]
  },
  {
   "cell_type": "code",
   "execution_count": 24,
   "id": "c79fc08b-b14c-4856-a6da-da811902e72d",
   "metadata": {},
   "outputs": [
    {
     "data": {
      "text/plain": [
       "np.int32(9)"
      ]
     },
     "execution_count": 24,
     "metadata": {},
     "output_type": "execute_result"
    }
   ],
   "source": [
    "np.max(arr1)"
   ]
  },
  {
   "cell_type": "code",
   "execution_count": 25,
   "id": "c3acf7a9-1cc9-4471-9c70-8558d60c718b",
   "metadata": {},
   "outputs": [
    {
     "data": {
      "text/plain": [
       "np.int32(1)"
      ]
     },
     "execution_count": 25,
     "metadata": {},
     "output_type": "execute_result"
    }
   ],
   "source": [
    "np.min(arr1)"
   ]
  },
  {
   "cell_type": "code",
   "execution_count": 28,
   "id": "ea8c774b-7daa-42cf-86f4-ed00227cb87f",
   "metadata": {},
   "outputs": [
    {
     "data": {
      "text/plain": [
       "np.int64(1)"
      ]
     },
     "execution_count": 28,
     "metadata": {},
     "output_type": "execute_result"
    }
   ],
   "source": [
    "# to find the index of the max and min numbers of the array\n",
    "np.argmax(arr1)"
   ]
  },
  {
   "cell_type": "code",
   "execution_count": 29,
   "id": "bc6acbe9-89d6-4c0e-abdf-f89724ee5e7b",
   "metadata": {},
   "outputs": [
    {
     "data": {
      "text/plain": [
       "np.int64(2)"
      ]
     },
     "execution_count": 29,
     "metadata": {},
     "output_type": "execute_result"
    }
   ],
   "source": [
    "np.argmin(arr1)"
   ]
  },
  {
   "cell_type": "code",
   "execution_count": 32,
   "id": "ab6384c1-9a4b-45f4-b702-543455dbad73",
   "metadata": {},
   "outputs": [
    {
     "data": {
      "text/plain": [
       "array([5, 6, 7, 3, 6, 8], dtype=int32)"
      ]
     },
     "execution_count": 32,
     "metadata": {},
     "output_type": "execute_result"
    }
   ],
   "source": [
    "arr2=np.random.randint(1,10,6)\n",
    "arr2"
   ]
  },
  {
   "cell_type": "code",
   "execution_count": 33,
   "id": "dc65bb90-8bdd-45ff-8e45-049894b0bbbb",
   "metadata": {},
   "outputs": [
    {
     "data": {
      "text/plain": [
       "array([-1,  6, -1, -1,  6,  8], dtype=int32)"
      ]
     },
     "execution_count": 33,
     "metadata": {},
     "output_type": "execute_result"
    }
   ],
   "source": [
    "arr2[arr2%2==1]=-1\n",
    "arr2"
   ]
  },
  {
   "cell_type": "code",
   "execution_count": 35,
   "id": "656e4fa3-5250-46b8-89d0-a4850a717cc9",
   "metadata": {},
   "outputs": [
    {
     "data": {
      "text/plain": [
       "array([49, 19, 33, 14, 11, 24], dtype=int32)"
      ]
     },
     "execution_count": 35,
     "metadata": {},
     "output_type": "execute_result"
    }
   ],
   "source": [
    "# where(condition,True,False)\n",
    "\n",
    "arr3=np.random.randint(1,50,6)\n",
    "arr3"
   ]
  },
  {
   "cell_type": "code",
   "execution_count": 38,
   "id": "94a39fb7-f7ba-44cc-924d-027ade10908c",
   "metadata": {},
   "outputs": [
    {
     "data": {
      "text/plain": [
       "array([-1, -1, -1, 14, -1, 24], dtype=int32)"
      ]
     },
     "execution_count": 38,
     "metadata": {},
     "output_type": "execute_result"
    }
   ],
   "source": [
    "out=np.where(arr3%2==1,-1,arr3)\n",
    "out"
   ]
  },
  {
   "cell_type": "code",
   "execution_count": 37,
   "id": "57a34456-43d2-45c7-8159-2ffd118a4472",
   "metadata": {},
   "outputs": [
    {
     "data": {
      "text/plain": [
       "array([49, 19, 33, 14, 11, 24], dtype=int32)"
      ]
     },
     "execution_count": 37,
     "metadata": {},
     "output_type": "execute_result"
    }
   ],
   "source": [
    "arr3"
   ]
  },
  {
   "cell_type": "code",
   "execution_count": 39,
   "id": "903f2cdc-0845-4db2-9616-4858d15fcec0",
   "metadata": {},
   "outputs": [
    {
     "data": {
      "text/plain": [
       "array([18,  8, 25, 11, 29, 21, 33, 13,  2, 31], dtype=int32)"
      ]
     },
     "execution_count": 39,
     "metadata": {},
     "output_type": "execute_result"
    }
   ],
   "source": [
    "arr4=np.random.randint(1,50,10)\n",
    "arr4"
   ]
  },
  {
   "cell_type": "code",
   "execution_count": 43,
   "id": "21d66991-f91e-46a4-ade9-7d56a4118986",
   "metadata": {},
   "outputs": [
    {
     "data": {
      "text/plain": [
       "array([ 2,  8, 11, 13, 18, 21, 25, 29, 31, 33], dtype=int32)"
      ]
     },
     "execution_count": 43,
     "metadata": {},
     "output_type": "execute_result"
    }
   ],
   "source": [
    "a=np.sort(arr4)\n",
    "a"
   ]
  },
  {
   "cell_type": "code",
   "execution_count": 46,
   "id": "37307d98-27f0-4730-bd25-9347a2518495",
   "metadata": {},
   "outputs": [
    {
     "data": {
      "text/plain": [
       "np.float64(11.5)"
      ]
     },
     "execution_count": 46,
     "metadata": {},
     "output_type": "execute_result"
    }
   ],
   "source": [
    "np.percentile(a,25)"
   ]
  },
  {
   "cell_type": "code",
   "execution_count": 47,
   "id": "92107fa7-0893-41f6-bfcf-ab9e23362596",
   "metadata": {},
   "outputs": [
    {
     "data": {
      "text/plain": [
       "np.float64(19.5)"
      ]
     },
     "execution_count": 47,
     "metadata": {},
     "output_type": "execute_result"
    }
   ],
   "source": [
    "np.percentile(a,50)"
   ]
  },
  {
   "cell_type": "code",
   "execution_count": 48,
   "id": "b7d364de-b9c2-4fb3-a442-df4a0fed8d4d",
   "metadata": {},
   "outputs": [
    {
     "data": {
      "text/plain": [
       "np.float64(33.0)"
      ]
     },
     "execution_count": 48,
     "metadata": {},
     "output_type": "execute_result"
    }
   ],
   "source": [
    "np.percentile(a,100)"
   ]
  },
  {
   "cell_type": "code",
   "execution_count": null,
   "id": "d1f1f0b5-17e2-4df6-84ff-2cd537f0e16f",
   "metadata": {},
   "outputs": [],
   "source": []
  }
 ],
 "metadata": {
  "kernelspec": {
   "display_name": "Python 3 (ipykernel)",
   "language": "python",
   "name": "python3"
  },
  "language_info": {
   "codemirror_mode": {
    "name": "ipython",
    "version": 3
   },
   "file_extension": ".py",
   "mimetype": "text/x-python",
   "name": "python",
   "nbconvert_exporter": "python",
   "pygments_lexer": "ipython3",
   "version": "3.13.3"
  },
  "widgets": {
   "application/vnd.jupyter.widget-state+json": {
    "state": {},
    "version_major": 2,
    "version_minor": 0
   }
  }
 },
 "nbformat": 4,
 "nbformat_minor": 5
}
