{
 "cells": [
  {
   "cell_type": "code",
   "execution_count": 1,
   "id": "05e802d5-4c5e-402f-bf8d-a2ad9f31e5e9",
   "metadata": {},
   "outputs": [],
   "source": [
    "import numpy as np"
   ]
  },
  {
   "cell_type": "markdown",
   "id": "0b6bd6ce-077c-41fa-900b-2facac96c27c",
   "metadata": {},
   "source": [
    "Scenario 1"
   ]
  },
  {
   "cell_type": "code",
   "execution_count": 2,
   "id": "6d694997-f7d5-4c41-b299-2ad8bd224684",
   "metadata": {},
   "outputs": [
    {
     "name": "stdout",
     "output_type": "stream",
     "text": [
      "[[0 1 2 3]\n",
      " [4 5 6 7]]\n",
      "[[ 8  9 10 11]\n",
      " [12 13 14 15]]\n"
     ]
    }
   ],
   "source": [
    "a1=np.arange(8).reshape(2,4)\n",
    "a2=np.arange(8,16).reshape(2,4)\n",
    "\n",
    "print(a1)\n",
    "print(a2)"
   ]
  },
  {
   "cell_type": "code",
   "execution_count": 3,
   "id": "9100a935-2cbe-4714-8b2e-c2b0c9d8252f",
   "metadata": {},
   "outputs": [
    {
     "data": {
      "text/plain": [
       "array([[ 8, 10, 12, 14],\n",
       "       [16, 18, 20, 22]])"
      ]
     },
     "execution_count": 3,
     "metadata": {},
     "output_type": "execute_result"
    }
   ],
   "source": [
    "a1+a2"
   ]
  },
  {
   "cell_type": "markdown",
   "id": "dc12b796-12b7-47dc-a5e3-30df5ce9170b",
   "metadata": {},
   "source": [
    "Scenario 2"
   ]
  },
  {
   "cell_type": "code",
   "execution_count": 4,
   "id": "5c41d264-6551-4844-bbcf-87519347b192",
   "metadata": {},
   "outputs": [
    {
     "name": "stdout",
     "output_type": "stream",
     "text": [
      "[[0 1 2]\n",
      " [3 4 5]\n",
      " [6 7 8]] [[0 1 2]]\n"
     ]
    }
   ],
   "source": [
    "a3=np.arange(9).reshape(3,3)\n",
    "a4=np.arange(3).reshape(1,3)\n",
    "print(a3,a4)"
   ]
  },
  {
   "cell_type": "code",
   "execution_count": 5,
   "id": "ebc90369-c846-4e22-ba23-b9fa54b6ff11",
   "metadata": {},
   "outputs": [
    {
     "data": {
      "text/plain": [
       "array([[ 0,  2,  4],\n",
       "       [ 3,  5,  7],\n",
       "       [ 6,  8, 10]])"
      ]
     },
     "execution_count": 5,
     "metadata": {},
     "output_type": "execute_result"
    }
   ],
   "source": [
    "a3+a4"
   ]
  },
  {
   "cell_type": "markdown",
   "id": "594cb376-ee98-4539-ae73-9aff38dce794",
   "metadata": {},
   "source": [
    "Rules for broadcasting"
   ]
  },
  {
   "cell_type": "code",
   "execution_count": 6,
   "id": "18caa3e9-1ab6-415f-97e6-b742a82042d3",
   "metadata": {},
   "outputs": [
    {
     "data": {
      "text/plain": [
       "array([[ 8, 10, 12, 14],\n",
       "       [16, 18, 20, 22]])"
      ]
     },
     "execution_count": 6,
     "metadata": {},
     "output_type": "execute_result"
    }
   ],
   "source": [
    "# if x=m and y=n, operation will take place\n",
    "a1=np.arange(8).reshape(2,4)\n",
    "a2=np.arange(8,16).reshape(2,4)\n",
    "\n",
    "a1+a2"
   ]
  },
  {
   "cell_type": "code",
   "execution_count": 10,
   "id": "e8b4af2a-c453-4248-9261-20e39c221a8f",
   "metadata": {},
   "outputs": [
    {
     "name": "stdout",
     "output_type": "stream",
     "text": [
      "[[0 1 2]]\n",
      "[[ 0  1  2]\n",
      " [ 3  4  5]\n",
      " [ 6  7  8]\n",
      " [ 9 10 11]]\n"
     ]
    }
   ],
   "source": [
    "# if x=1 and y=n then also operation will take place(some dimension)\n",
    "\n",
    "a5=np.arange(3).reshape(1,3)\n",
    "a6=np.arange(12).reshape(4,3)\n",
    "\n",
    "print(a5)\n",
    "print(a6)"
   ]
  },
  {
   "cell_type": "code",
   "execution_count": 9,
   "id": "71a18788-2009-467b-8f0e-5b15f82fa1a3",
   "metadata": {},
   "outputs": [
    {
     "data": {
      "text/plain": [
       "array([[ 0,  2,  4],\n",
       "       [ 3,  5,  7],\n",
       "       [ 6,  8, 10],\n",
       "       [ 9, 11, 13]])"
      ]
     },
     "execution_count": 9,
     "metadata": {},
     "output_type": "execute_result"
    }
   ],
   "source": [
    "a5+a6"
   ]
  },
  {
   "cell_type": "code",
   "execution_count": 11,
   "id": "181f9779-451f-4f1a-9a3d-efd23603a809",
   "metadata": {},
   "outputs": [
    {
     "name": "stdout",
     "output_type": "stream",
     "text": [
      "[[0 1 2]]\n",
      "[[ 0  1  2  3]\n",
      " [ 4  5  6  7]\n",
      " [ 8  9 10 11]\n",
      " [12 13 14 15]]\n"
     ]
    }
   ],
   "source": [
    "# if x=1 and y!=n then also operation will not take place\n",
    "\n",
    "a9=np.arange(3).reshape(1,3)\n",
    "a10=np.arange(16).reshape(4,4)\n",
    "\n",
    "print(a9)\n",
    "print(a10)"
   ]
  },
  {
   "cell_type": "code",
   "execution_count": 12,
   "id": "6eb692e7-47ef-4b81-bdca-e9aef6402603",
   "metadata": {},
   "outputs": [
    {
     "ename": "ValueError",
     "evalue": "operands could not be broadcast together with shapes (1,3) (4,4) ",
     "output_type": "error",
     "traceback": [
      "\u001b[31m---------------------------------------------------------------------------\u001b[39m",
      "\u001b[31mValueError\u001b[39m                                Traceback (most recent call last)",
      "\u001b[36mCell\u001b[39m\u001b[36m \u001b[39m\u001b[32mIn[12]\u001b[39m\u001b[32m, line 1\u001b[39m\n\u001b[32m----> \u001b[39m\u001b[32m1\u001b[39m \u001b[43ma9\u001b[49m\u001b[43m \u001b[49m\u001b[43m+\u001b[49m\u001b[43m \u001b[49m\u001b[43ma10\u001b[49m\n",
      "\u001b[31mValueError\u001b[39m: operands could not be broadcast together with shapes (1,3) (4,4) "
     ]
    }
   ],
   "source": [
    "a9 + a10"
   ]
  },
  {
   "cell_type": "code",
   "execution_count": 13,
   "id": "f62163e2-9880-400a-86a9-7e686d558f21",
   "metadata": {},
   "outputs": [
    {
     "name": "stdout",
     "output_type": "stream",
     "text": [
      "[[0 1 2]]\n",
      "[[0]\n",
      " [1]\n",
      " [2]]\n"
     ]
    }
   ],
   "source": [
    "# if x=1 and n=1 then y==m, operation to take place\n",
    "\n",
    "a11=np.arange(3).reshape(1,3)\n",
    "a12=np.arange(3).reshape(3,1)\n",
    "print(a11)\n",
    "print(a12)"
   ]
  },
  {
   "cell_type": "code",
   "execution_count": 14,
   "id": "ae6ce232-e141-44d7-a8fb-02240493fcca",
   "metadata": {},
   "outputs": [
    {
     "data": {
      "text/plain": [
       "array([[0, 1, 2],\n",
       "       [1, 2, 3],\n",
       "       [2, 3, 4]])"
      ]
     },
     "execution_count": 14,
     "metadata": {},
     "output_type": "execute_result"
    }
   ],
   "source": [
    "a11 + a12"
   ]
  },
  {
   "cell_type": "code",
   "execution_count": 16,
   "id": "f81b82f9-9e72-4eae-acfa-d2d15ae5ed88",
   "metadata": {},
   "outputs": [
    {
     "name": "stdout",
     "output_type": "stream",
     "text": [
      "[[0]]\n",
      "[[ 0  1  2  3  4]\n",
      " [ 5  6  7  8  9]\n",
      " [10 11 12 13 14]\n",
      " [15 16 17 18 19]]\n"
     ]
    }
   ],
   "source": [
    "# if x=1 and y=1 then the operation will take place no matter what \n",
    "\n",
    "a13=np.arange(1).reshape(1,1)\n",
    "a14=np.arange(20).reshape(4,5)\n",
    "\n",
    "print(a13)\n",
    "print(a14)"
   ]
  },
  {
   "cell_type": "code",
   "execution_count": 17,
   "id": "3cf73829-86f7-48e7-93ae-3ce829499c6f",
   "metadata": {},
   "outputs": [
    {
     "data": {
      "text/plain": [
       "array([[ 0,  1,  2,  3,  4],\n",
       "       [ 5,  6,  7,  8,  9],\n",
       "       [10, 11, 12, 13, 14],\n",
       "       [15, 16, 17, 18, 19]])"
      ]
     },
     "execution_count": 17,
     "metadata": {},
     "output_type": "execute_result"
    }
   ],
   "source": [
    "a13 + a14"
   ]
  },
  {
   "cell_type": "code",
   "execution_count": 18,
   "id": "3b90227e-9f8f-4e5e-875b-ff14ca5e6a2e",
   "metadata": {},
   "outputs": [
    {
     "name": "stdout",
     "output_type": "stream",
     "text": [
      "[0 1 2 3]\n",
      "[[ 0  1  2  3]\n",
      " [ 4  5  6  7]\n",
      " [ 8  9 10 11]\n",
      " [12 13 14 15]\n",
      " [16 17 18 19]]\n"
     ]
    }
   ],
   "source": [
    "# if they are from different dimensions\n",
    "\n",
    "a15=np.arange(4)\n",
    "a16=np.arange(20).reshape(5,4)\n",
    "\n",
    "print(a15)\n",
    "print(a16)"
   ]
  },
  {
   "cell_type": "code",
   "execution_count": 19,
   "id": "bb9d644d-f361-4c62-9a7e-72f5fba74a5a",
   "metadata": {},
   "outputs": [
    {
     "data": {
      "text/plain": [
       "array([[ 0,  2,  4,  6],\n",
       "       [ 4,  6,  8, 10],\n",
       "       [ 8, 10, 12, 14],\n",
       "       [12, 14, 16, 18],\n",
       "       [16, 18, 20, 22]])"
      ]
     },
     "execution_count": 19,
     "metadata": {},
     "output_type": "execute_result"
    }
   ],
   "source": [
    "a15 + a16"
   ]
  },
  {
   "cell_type": "code",
   "execution_count": null,
   "id": "6439109b-099c-42a6-89b0-6c8574a5b5b3",
   "metadata": {},
   "outputs": [],
   "source": []
  }
 ],
 "metadata": {
  "kernelspec": {
   "display_name": "Python 3 (ipykernel)",
   "language": "python",
   "name": "python3"
  },
  "language_info": {
   "codemirror_mode": {
    "name": "ipython",
    "version": 3
   },
   "file_extension": ".py",
   "mimetype": "text/x-python",
   "name": "python",
   "nbconvert_exporter": "python",
   "pygments_lexer": "ipython3",
   "version": "3.13.3"
  },
  "widgets": {
   "application/vnd.jupyter.widget-state+json": {
    "state": {},
    "version_major": 2,
    "version_minor": 0
   }
  }
 },
 "nbformat": 4,
 "nbformat_minor": 5
}
